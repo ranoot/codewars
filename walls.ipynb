{
 "cells": [
  {
   "cell_type": "code",
   "execution_count": 3,
   "metadata": {},
   "outputs": [],
   "source": [
    "from collections import namedtuple\n",
    "def touches_wall(width, height, point):\n",
    "    return point.x >= width or point.x <= 0 or point.y >= height or point.y <= 0"
   ]
  },
  {
   "cell_type": "markdown",
   "metadata": {},
   "source": [
    "# Strategy\n"
   ]
  },
  {
   "cell_type": "code",
   "execution_count": null,
   "metadata": {},
   "outputs": [],
   "source": [
    "def has_partitions(width, height, walls):\n",
    "    for w in walls:\n",
    "        if touches_wall(width, height, w[1]) and touches_wall(width, height, w[2]):\n",
    "            return True"
   ]
  },
  {
   "cell_type": "markdown",
   "metadata": {},
   "source": [
    "Index can be out of range\n",
    "Check if lines are connected? (they just need to share 1 line)\n",
    "    Check for the formation of polygons, Check for cycles basically\n",
    "Check if lines touch the wall Done\n",
    "Check if both lines touch a wall (The wall can act as a potential \"line\" in connecting 2 segments and forming another polygon)\n"
   ]
  }
 ],
 "metadata": {
  "kernelspec": {
   "display_name": "Python 3",
   "language": "python",
   "name": "python3"
  },
  "language_info": {
   "codemirror_mode": {
    "name": "ipython",
    "version": 3
   },
   "file_extension": ".py",
   "mimetype": "text/x-python",
   "name": "python",
   "nbconvert_exporter": "python",
   "pygments_lexer": "ipython3",
   "version": "3.12.2"
  }
 },
 "nbformat": 4,
 "nbformat_minor": 2
}
