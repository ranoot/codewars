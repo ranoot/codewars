{
 "cells": [
  {
   "cell_type": "code",
   "execution_count": 30,
   "metadata": {},
   "outputs": [],
   "source": [
    "import numpy as np\n",
    "from timer_wrapper import clock"
   ]
  },
  {
   "cell_type": "code",
   "execution_count": 3,
   "metadata": {},
   "outputs": [],
   "source": [
    "wheel = np.array([1, 7, 11, 13, 17, 19, 23, 29])"
   ]
  },
  {
   "cell_type": "code",
   "execution_count": 6,
   "metadata": {},
   "outputs": [],
   "source": [
    "# Finding our offset values\n",
    "offset_matrix = np.array([wheel*i for i in wheel]) % 30"
   ]
  },
  {
   "cell_type": "markdown",
   "metadata": {},
   "source": [
    "We first take the \"row\" that we want to compute offset_values for (corresponding to a certain value in our wheel),\n",
    "Then for each possible type of prime, call this `p_mod`(which is represented by our wheel) which corresponds to each row in the column matrix, \n",
    "Find the value which equals our \"row\" then get the corresponding wheel number of the column, call this $m$\n",
    "Then compute the offset, by taking $m'$ (m' is just m but computed so that it is the same modulo wheel_size but larger than all our primes ignored) - `p_mod'` "
   ]
  },
  {
   "cell_type": "code",
   "execution_count": 10,
   "metadata": {},
   "outputs": [
    {
     "data": {
      "text/plain": [
       "{1: {1: 0, 7: -24, 11: -20, 13: -18, 17: -14, 19: -12, 23: -8, 29: -2},\n",
       " 7: {7: 24, 19: 0, 17: 4, 1: 6, 29: 10, 13: 12, 11: 16, 23: 22},\n",
       " 11: {11: 20, 17: -4, 1: 0, 23: 2, 7: 6, 29: 8, 13: 12, 19: 18},\n",
       " 13: {13: 18, 1: -6, 23: -2, 19: 0, 11: 4, 7: 6, 29: 10, 17: 16},\n",
       " 17: {17: 14, 29: -10, 7: -6, 11: -4, 19: 0, 23: 2, 1: 6, 13: 12},\n",
       " 19: {19: 12, 13: -12, 29: -8, 7: -6, 23: -2, 1: 0, 17: 4, 11: 10},\n",
       " 23: {23: 8, 11: -16, 13: -12, 29: -10, 1: -6, 17: -4, 19: 0, 7: 6},\n",
       " 29: {29: 2, 23: -22, 19: -18, 17: -16, 13: -12, 11: -10, 7: -6, 1: 0}}"
      ]
     },
     "execution_count": 10,
     "metadata": {},
     "output_type": "execute_result"
    }
   ],
   "source": [
    "# we want to define an offset_dict = {prime: {row: offset}}\n",
    "offset_dict = {}\n",
    "for row in offset_matrix:\n",
    "    p_mod = row[0]\n",
    "    row_offset_dict = {}\n",
    "    for m, row_value in zip(wheel, row):\n",
    "        m_prime, p_mod_prime = m, p_mod\n",
    "        if m <= 5: m_prime = m+30\n",
    "        if p_mod <= 5: p_mod_prime = p_mod+30\n",
    "        row_offset_dict[row_value] = m_prime - p_mod_prime #This is our offset\n",
    "    offset_dict[p_mod] = row_offset_dict\n"
   ]
  },
  {
   "cell_type": "code",
   "execution_count": 18,
   "metadata": {},
   "outputs": [
    {
     "data": {
      "text/plain": [
       "{1: {1: (2, 0),\n",
       "  7: (-22, 0),\n",
       "  11: (-18, 0),\n",
       "  13: (-16, 0),\n",
       "  17: (-12, 0),\n",
       "  19: (-10, 0),\n",
       "  23: (-6, 0),\n",
       "  29: (0, 0)},\n",
       " 7: {7: (-22, 0),\n",
       "  19: (-46, 18),\n",
       "  17: (-42, 15),\n",
       "  1: (-40, 13),\n",
       "  29: (-36, 10),\n",
       "  13: (-34, 9),\n",
       "  11: (-30, 6),\n",
       "  23: (-24, 1)},\n",
       " 11: {11: (-18, 0),\n",
       "  17: (-42, 15),\n",
       "  1: (-38, 12),\n",
       "  23: (-36, 11),\n",
       "  7: (-32, 9),\n",
       "  29: (-30, 7),\n",
       "  13: (-26, 5),\n",
       "  19: (-20, 1)},\n",
       " 13: {13: (-16, 0),\n",
       "  1: (-40, 13),\n",
       "  23: (-36, 11),\n",
       "  19: (-34, 10),\n",
       "  11: (-30, 8),\n",
       "  7: (-28, 7),\n",
       "  29: (-24, 4),\n",
       "  17: (-18, 1)},\n",
       " 17: {17: (-12, 0),\n",
       "  29: (-36, 10),\n",
       "  7: (-32, 9),\n",
       "  11: (-30, 8),\n",
       "  19: (-26, 6),\n",
       "  23: (-24, 5),\n",
       "  1: (-20, 3),\n",
       "  13: (-14, 1)},\n",
       " 19: {19: (-10, 0),\n",
       "  13: (-34, 9),\n",
       "  29: (-30, 7),\n",
       "  7: (-28, 7),\n",
       "  23: (-24, 5),\n",
       "  1: (-22, 4),\n",
       "  17: (-18, 3),\n",
       "  11: (-12, 1)},\n",
       " 23: {23: (-6, 0),\n",
       "  11: (-30, 6),\n",
       "  13: (-26, 5),\n",
       "  29: (-24, 4),\n",
       "  1: (-20, 3),\n",
       "  17: (-18, 3),\n",
       "  19: (-14, 2),\n",
       "  7: (-8, 1)},\n",
       " 29: {29: (0, 0),\n",
       "  23: (-24, 1),\n",
       "  19: (-20, 1),\n",
       "  17: (-18, 1),\n",
       "  13: (-14, 1),\n",
       "  11: (-12, 1),\n",
       "  7: (-8, 1),\n",
       "  1: (-2, 0)}}"
      ]
     },
     "execution_count": 18,
     "metadata": {},
     "output_type": "execute_result"
    }
   ],
   "source": [
    "formula_dict = {} # {prime modulo: {row: (, ) -> coefficients}}\n",
    "# the prime modulo in question must be in the indexable form\n",
    "for prime_modulo in offset_dict:\n",
    "    coeff_dict = {}\n",
    "    b = prime_modulo - 30 if row_value > 1 else 1\n",
    "    for row_value, offset in offset_dict[prime_modulo].items():\n",
    "        a = row_value - 30 if row_value > 1 else 1\n",
    "        coeff_dict[row_value] = (2*b + offset, (b*(b+offset) - a)//30)\n",
    "    formula_dict[prime_modulo] = coeff_dict\n",
    "formula_dict"
   ]
  },
  {
   "cell_type": "code",
   "execution_count": 34,
   "metadata": {},
   "outputs": [
    {
     "name": "stdout",
     "output_type": "stream",
     "text": [
      "Elapsed time: 36.2717 seconds\n"
     ]
    },
    {
     "data": {
      "text/plain": [
       "{1: array([ True,  True,  True, ..., False, False, False]),\n",
       " 7: array([ True,  True,  True, ..., False, False,  True]),\n",
       " 11: array([ True,  True,  True, ..., False, False, False]),\n",
       " 13: array([ True,  True,  True, ..., False,  True, False]),\n",
       " 17: array([ True,  True,  True, ..., False, False, False]),\n",
       " 19: array([ True,  True, False, ..., False, False, False]),\n",
       " 23: array([ True,  True,  True, ..., False, False, False]),\n",
       " 29: array([ True,  True,  True, ...,  True, False, False])}"
      ]
     },
     "execution_count": 34,
     "metadata": {},
     "output_type": "execute_result"
    }
   ],
   "source": [
    "n=10**10\n",
    "clock.start()\n",
    "primesxmod30 = {prime_modulo: np.ones((n//30+1), dtype=bool) for prime_modulo in wheel}\n",
    "wheel_ordered = [(7, -23), (11, -19), (13, -17), (17, -13), (19, -11), (23, -7), (29, -1), (1, 1)]\n",
    "for i in range(1,int((n**0.5+1)/30)+1):\n",
    "    for prime_modulo, a_prime in wheel_ordered:\n",
    "        if primesxmod30[prime_modulo][i]:\n",
    "\n",
    "            for row in primesxmod30:\n",
    "                coeff1, coeff2= formula_dict[prime_modulo][row]\n",
    "                primesxmod30[row][30*i*i + coeff1*i + coeff2::(30*i + a_prime)] = False\n",
    "                # print(f\"{prime_modulo}, row {row}\" ,30*i*i + coeff1*i + coeff2,prime)\n",
    "                # print(primesxmod30[row])\n",
    "clock.stop()\n",
    "primesxmod30\n",
    "\n",
    "    "
   ]
  }
 ],
 "metadata": {
  "kernelspec": {
   "display_name": "Python 3",
   "language": "python",
   "name": "python3"
  },
  "language_info": {
   "codemirror_mode": {
    "name": "ipython",
    "version": 3
   },
   "file_extension": ".py",
   "mimetype": "text/x-python",
   "name": "python",
   "nbconvert_exporter": "python",
   "pygments_lexer": "ipython3",
   "version": "3.12.2"
  }
 },
 "nbformat": 4,
 "nbformat_minor": 2
}
